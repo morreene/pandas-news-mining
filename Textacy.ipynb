{
 "cells": [
  {
   "cell_type": "markdown",
   "metadata": {},
   "source": [
    "This version is for testing Textacy."
   ]
  },
  {
   "cell_type": "markdown",
   "metadata": {},
   "source": [
    "# Taxtacy Examples"
   ]
  },
  {
   "cell_type": "code",
   "execution_count": 1,
   "metadata": {
    "collapsed": true
   },
   "outputs": [],
   "source": [
    "import textacy"
   ]
  },
  {
   "cell_type": "markdown",
   "metadata": {
    "collapsed": true
   },
   "source": [
    "Efficiently stream documents from disk and into a processed corpus:"
   ]
  },
  {
   "cell_type": "code",
   "execution_count": 2,
   "metadata": {
    "collapsed": false
   },
   "outputs": [
    {
     "data": {
      "text/plain": [
       "Corpus(1241 docs; 859498 tokens)"
      ]
     },
     "execution_count": 2,
     "metadata": {},
     "output_type": "execute_result"
    }
   ],
   "source": [
    "cw = textacy.corpora.CapitolWords()\n",
    "docs = cw.records(speaker_name={'Hillary Clinton', 'Barack Obama'})\n",
    "content_stream, metadata_stream = textacy.fileio.split_record_fields(docs, 'text')\n",
    "corpus = textacy.Corpus('en', texts=content_stream, metadatas=metadata_stream)\n",
    "corpus"
   ]
  },
  {
   "cell_type": "markdown",
   "metadata": {},
   "source": [
    "Represent corpus as a document-term matrix, with flexible weighting and filtering:"
   ]
  },
  {
   "cell_type": "code",
   "execution_count": 3,
   "metadata": {
    "collapsed": false
   },
   "outputs": [
    {
     "name": "stdout",
     "output_type": "stream",
     "text": [
      "<1241x11328 sparse matrix of type '<class 'numpy.float64'>'\n",
      "\twith 211901 stored elements in Compressed Sparse Row format>\n"
     ]
    }
   ],
   "source": [
    "doc_term_matrix, id2term = textacy.vsm.doc_term_matrix(\n",
    "     (doc.to_terms_list(ngrams=1, named_entities=True, as_strings=True)\n",
    "      for doc in corpus),\n",
    "     weighting='tfidf', normalize=True, smooth_idf=True, min_df=2, max_df=0.95) \n",
    "print(repr(doc_term_matrix))"
   ]
  },
  {
   "cell_type": "markdown",
   "metadata": {},
   "source": [
    "Train and interpret a topic model:"
   ]
  },
  {
   "cell_type": "code",
   "execution_count": 4,
   "metadata": {
    "collapsed": false
   },
   "outputs": [
    {
     "data": {
      "text/plain": [
       "(1241, 10)"
      ]
     },
     "execution_count": 4,
     "metadata": {},
     "output_type": "execute_result"
    }
   ],
   "source": [
    "model = textacy.tm.TopicModel('nmf', n_topics=10)\n",
    "model.fit(doc_term_matrix)\n",
    "doc_topic_matrix = model.transform(doc_term_matrix)\n",
    "doc_topic_matrix.shape"
   ]
  },
  {
   "cell_type": "code",
   "execution_count": 5,
   "metadata": {
    "collapsed": false
   },
   "outputs": [
    {
     "name": "stdout",
     "output_type": "stream",
     "text": [
      "topic 0 : new   's   child   people   â€   need   year   today   work   york\n",
      "topic 1 : rescind   quorum   order   consent   unanimous   ask   president   mr.   madam   objection\n",
      "topic 2 : dispense   reading   consent   unanimous   amendment   ask   president   mr.   madam   presiding\n",
      "topic 3 : virginia   west virginia   west   senator   yield   question   thank   objection   inquiry   massachusetts\n",
      "topic 4 : senators   desiring   chamber   vote   ridership   expedited   reassurance   displace   reliant   confidence\n",
      "topic 5 : amendment   pending   aside   set   unanimous   ask   consent   mr.   president   desk\n",
      "topic 6 : health   care   mental   patient   child   quality   medical   information   hospital   americans\n",
      "topic 7 : iraq   iraqi   war   troop   iraqis   american   u.s.   afghanistan   military   policy\n",
      "topic 8 : senate   thursday   wednesday   session   unanimous   consent   authorize   p.m.   committee   september\n",
      "topic 9 : medicare   drug   senior   medicaid   prescription   benefit   fda   plan   cut   cost\n"
     ]
    }
   ],
   "source": [
    "for topic_idx, top_terms in model.top_topic_terms(id2term, top_n=10):\n",
    "    print('topic', topic_idx, ':', '   '.join(top_terms))"
   ]
  },
  {
   "cell_type": "markdown",
   "metadata": {},
   "source": [
    "Basic indexing as well as flexible selection of documents in a corpus:"
   ]
  },
  {
   "cell_type": "code",
   "execution_count": 6,
   "metadata": {
    "collapsed": false
   },
   "outputs": [
    {
     "data": {
      "text/plain": [
       "411"
      ]
     },
     "execution_count": 6,
     "metadata": {},
     "output_type": "execute_result"
    }
   ],
   "source": [
    "obama_docs = list(corpus.get(\n",
    "    lambda doc: doc.metadata['speaker_name'] == 'Barack Obama'))\n",
    "len(obama_docs)"
   ]
  },
  {
   "cell_type": "code",
   "execution_count": 8,
   "metadata": {
    "collapsed": false
   },
   "outputs": [
    {
     "data": {
      "text/plain": [
       "Doc(3002 tokens; \"In the Federalist Papers, we often hear the ref...\")"
      ]
     },
     "execution_count": 8,
     "metadata": {},
     "output_type": "execute_result"
    }
   ],
   "source": [
    "doc = corpus[-1]\n",
    "doc"
   ]
  },
  {
   "cell_type": "markdown",
   "metadata": {},
   "source": [
    "Preprocess plain text, or highlight particular terms in it:"
   ]
  },
  {
   "cell_type": "code",
   "execution_count": 9,
   "metadata": {
    "collapsed": false
   },
   "outputs": [
    {
     "data": {
      "text/plain": [
       "'in the federalist papers we often hear the reference to the senates ro'"
      ]
     },
     "execution_count": 9,
     "metadata": {},
     "output_type": "execute_result"
    }
   ],
   "source": [
    "textacy.preprocess_text(doc.text, lowercase=True, no_punct=True)[:70]"
   ]
  },
  {
   "cell_type": "code",
   "execution_count": 10,
   "metadata": {
    "collapsed": false
   },
   "outputs": [
    {
     "name": "stdout",
     "output_type": "stream",
     "text": [
      "g on this tiny piece of Senate and  America n history. Some 10 years ago, I ask\n",
      "o do the hard work in New York and  America , who get up every day and do the v\n",
      "say: You know, you never can count  America  out. Whenever the chips are down, \n",
      " what we know will give our fellow  America ns a better shot at the kind of fut\n",
      "aith in this body and in my fellow  America ns. I remain an optimist, that Amer\n",
      "ricans. I remain an optimist, that  America 's best days are still ahead of us.\n"
     ]
    }
   ],
   "source": [
    "textacy.text_utils.keyword_in_context(doc.text, 'America', window_width=35)"
   ]
  },
  {
   "cell_type": "markdown",
   "metadata": {},
   "source": [
    "Extract various elements of interest from parsed documents:"
   ]
  },
  {
   "cell_type": "code",
   "execution_count": 11,
   "metadata": {
    "collapsed": false
   },
   "outputs": [
    {
     "data": {
      "text/plain": [
       "[Federalist Papers,\n",
       " Senate's,\n",
       " 's role,\n",
       " violent passions,\n",
       " pernicious resolutions,\n",
       " everlasting credit,\n",
       " common ground,\n",
       " 8 years,\n",
       " tiny piece,\n",
       " American history,\n",
       " 10 years,\n",
       " years ago,\n",
       " New York,\n",
       " fellow New,\n",
       " New Yorkers,\n",
       " skeptics wondering,\n",
       " stalwart supporters,\n",
       " Senator Barbara,\n",
       " Barbara Mikulski,\n",
       " new colleagues,\n",
       " August recess,\n",
       " Pennsylvania Avenue,\n",
       " Senate went,\n",
       " extraordinary pressure,\n",
       " constituency work]"
      ]
     },
     "execution_count": 11,
     "metadata": {},
     "output_type": "execute_result"
    }
   ],
   "source": [
    "list(textacy.extract.ngrams(\n",
    "    doc, 2, filter_stops=True, filter_punct=True, filter_nums=False))[:25]"
   ]
  },
  {
   "cell_type": "code",
   "execution_count": 12,
   "metadata": {
    "collapsed": false
   },
   "outputs": [
    {
     "data": {
      "text/plain": [
       "[hear the reference,\n",
       " Senate's role,\n",
       " avert the consequences,\n",
       " sudden and violent,\n",
       " intemperate and pernicious,\n",
       " credit and wisdom,\n",
       " years of service,\n",
       " piece of Senate,\n",
       " Senate and American,\n",
       " 10 years ago,\n",
       " asked the people,\n",
       " people of New,\n",
       " economy has grown,\n",
       " grown more interconnected,\n",
       " world more interdependent,\n",
       " fellow New Yorkers,\n",
       " supporters and people,\n",
       " Senator Barbara Mikulski,\n",
       " kind of read,\n",
       " road and set,\n",
       " colleagues will eventually,\n",
       " eventually be able,\n",
       " able to enjoy,\n",
       " end of Pennsylvania,\n",
       " went on recess,\n",
       " thrilled and relieved,\n",
       " August recess roll,\n",
       " returned in 2001,\n",
       " Nation was attacked,\n",
       " attacked on 9/11,\n",
       " toll was devastating,\n",
       " devastating and New,\n",
       " New York bore,\n",
       " bore the heaviest,\n",
       " Nearly 3,000 lives,\n",
       " lives were lost,\n",
       " World Trade Center,\n",
       " Center in ruins,\n",
       " cloud of debris,\n",
       " debris and poison,\n",
       " remember the rallying,\n",
       " rallying of support,\n",
       " support and sense,\n",
       " sense of common,\n",
       " represented here showed,\n",
       " words but specific,\n",
       " Senators sent staff,\n",
       " sent staff members,\n",
       " members to help,\n",
       " answer the ringing,\n",
       " office as New,\n",
       " New Yorkers struggled,\n",
       " struggled to track,\n",
       " track down family,\n",
       " forget Senator Robert,\n",
       " Senator Robert Byrd,\n",
       " Robert Byrd telling,\n",
       " State's hour,\n",
       " hour of need,\n",
       " Senator from New,\n",
       " colleague Chuck Schumer,\n",
       " went to New,\n",
       " roads were shut,\n",
       " skies were clear,\n",
       " provided by FEMA,\n",
       " sky that day,\n",
       " landed at La,\n",
       " helicopter to fly,\n",
       " World Trade Center,\n",
       " Trade Center site,\n",
       " smoke still coming,\n",
       " piles of scrap,\n",
       " scrap and steel,\n",
       " teetering as firefighters,\n",
       " tried to continue,\n",
       " continue their search,\n",
       " search and rescue,\n",
       " describes as hell,\n",
       " Government colleagues walked,\n",
       " curtain of blackness,\n",
       " come a firefighter,\n",
       " exhausted after having,\n",
       " duty for 24,\n",
       " dragging an axe,\n",
       " air was acrid,\n",
       " hard to breath,\n",
       " burned your throat,\n",
       " lasting health problems,\n",
       " period of time,\n",
       " air that carried,\n",
       " death and destruction,\n",
       " Office and secured,\n",
       " secured a commitment,\n",
       " commitment from President,\n",
       " Bush for $,\n",
       " $20 billion,\n",
       " billion in national,\n",
       " aid for New,\n",
       " New York's,\n",
       " York's recovery,\n",
       " money as promised,\n",
       " leaving the Senate,\n",
       " especially on Sunday,\n",
       " Sunday in New,\n",
       " past 7 years,\n",
       " Appropriations Committee â€,\n",
       " Harkin and Senator,\n",
       " Senator Murray â€,\n",
       " worked to recover,\n",
       " bringing New York,\n",
       " programs to provide,\n",
       " provide health screening,\n",
       " screening and monitoring,\n",
       " monitoring and treatment,\n",
       " close and lasting,\n",
       " victims of 9/11,\n",
       " applaud and thank,\n",
       " better on threat,\n",
       " despite their grief,\n",
       " policies to prevent,\n",
       " prevent future attacks,\n",
       " level of connection,\n",
       " connection and commitment,\n",
       " commitment in time,\n",
       " time of disaster,\n",
       " Senator from New,\n",
       " working to improve,\n",
       " improve the upstate,\n",
       " working on behalf,\n",
       " farmers of New,\n",
       " remember a short,\n",
       " conversation one day,\n",
       " day with Kent,\n",
       " Max Baucus early,\n",
       " wanted to help,\n",
       " agriculture in New,\n",
       " quizzically and said,\n",
       " farmers in New,\n",
       " 40 thousand family,\n",
       " thousand family farms,\n",
       " Kent Conrad looked,\n",
       " gave a speech,\n",
       " speech one day,\n",
       " cow and said,\n",
       " cow that lives,\n",
       " lot of fun,\n",
       " support the people,\n",
       " work in New,\n",
       " York and America,\n",
       " Finger Lakes region,\n",
       " helped to expand,\n",
       " expand broadband access,\n",
       " access and partnered,\n",
       " partnered with eBay,\n",
       " eBay to create,\n",
       " create a way,\n",
       " way for people,\n",
       " market was limited,\n",
       " looked for ways,\n",
       " ways to retrofit,\n",
       " trucks and schoolbuses,\n",
       " vehicles with new,\n",
       " new clean diesel,\n",
       " clean diesel technologies,\n",
       " diesel technologies developed,\n",
       " companies in New,\n",
       " Corning and Jamestown,\n",
       " greenprint for Rochester,\n",
       " city can harness,\n",
       " harness its extraordinary,\n",
       " extraordinary research institutions,\n",
       " clean energy leader,\n",
       " State to target,\n",
       " investments from Bioinformatics,\n",
       " Bioinformatics in Buffalo,\n",
       " Buffalo to cultural,\n",
       " Theater in Utica,\n",
       " took special pleasure,\n",
       " pleasure in working,\n",
       " working with tourism,\n",
       " tourism because New,\n",
       " place of historic,\n",
       " believed it needed,\n",
       " given more support,\n",
       " going to Seneca,\n",
       " National Women's,\n",
       " Women's Hall,\n",
       " Hall of Fame,\n",
       " Fame and site,\n",
       " landmark Women's,\n",
       " Women's Rights,\n",
       " 's Rights Convention,\n",
       " world in 1848,\n",
       " labor of love,\n",
       " lot to look,\n",
       " lot of excitement,\n",
       " want to look,\n",
       " putting aside partisan,\n",
       " aside partisan differences,\n",
       " differences to meet,\n",
       " meet the challenges,\n",
       " leaders are struggling,\n",
       " time when people,\n",
       " people will look,\n",
       " peace and prosperity,\n",
       " prosperity and progress,\n",
       " lot of work,\n",
       " know the people,\n",
       " fellow New Yorkers,\n",
       " wish to express,\n",
       " express my profound,\n",
       " chance to continue,\n",
       " continue the work,\n",
       " advocate on behalf,\n",
       " single child's,\n",
       " child's chance,\n",
       " chance to live,\n",
       " days to pass,\n",
       " pass the Lilly,\n",
       " Lilly Ledbetter Fair,\n",
       " Ledbetter Fair Pay,\n",
       " Fair Pay Act,\n",
       " Paycheck Fairness Act,\n",
       " Americans a better,\n",
       " kind of future,\n",
       " lot of fun,\n",
       " 8 State fairs,\n",
       " look back wistfully,\n",
       " look forward hopefully,\n",
       " honor of serving,\n",
       " serving our country,\n",
       " sustained and directed,\n",
       " nearly four decades,\n",
       " decades in public,\n",
       " teachers and mentors,\n",
       " superb Democratic staff,\n",
       " Chamber going day,\n",
       " matter how late,\n",
       " long the workload,\n",
       " great Empire State,\n",
       " forward to continuing,\n",
       " continuing my association,\n",
       " need your help,\n",
       " help to kind,\n",
       " kind of clear,\n",
       " chance to operate,\n",
       " improved management techniques,\n",
       " techniques I hope,\n",
       " hope to bring,\n",
       " challenging and defining,\n",
       " remain an optimist,\n",
       " America's best,\n",
       " 's best days,\n",
       " Mary Catherine Beach,\n",
       " Suzanne Bennett Johnson,\n",
       " Amy Bonitatibus Crowley,\n",
       " M. Tracey Brooks,\n",
       " W. Case Button,\n",
       " Jennell Cofer Lynch,\n",
       " Julie Dade Howard,\n",
       " Lucy Walker Irving,\n",
       " Lindsey Katherine Jack,\n",
       " Grant Kevin Lane,\n",
       " Rachel Alice Lewis,\n",
       " Michelle Dianne McIntyre,\n",
       " Karen Persichilli Keogh,\n",
       " Kelly Severance Nelson]"
      ]
     },
     "execution_count": 12,
     "metadata": {},
     "output_type": "execute_result"
    }
   ],
   "source": [
    "list(textacy.extract.ngrams(\n",
    "    doc, 3, filter_stops=True, filter_punct=True,))"
   ]
  },
  {
   "cell_type": "code",
   "execution_count": 13,
   "metadata": {
    "collapsed": false
   },
   "outputs": [
    {
     "data": {
      "text/plain": [
       "[Senate,\n",
       " Senate,\n",
       " American,\n",
       " New York,\n",
       " New Yorkers,\n",
       " Senate,\n",
       " Barbara Mikulski,\n",
       " Senate,\n",
       " Pennsylvania Avenue,\n",
       " Senate,\n",
       " Washington,\n",
       " States,\n",
       " New York,\n",
       " State,\n",
       " World Trade Center,\n",
       " States,\n",
       " New York,\n",
       " New Yorkers,\n",
       " Robert Byrd,\n",
       " State,\n",
       " New York,\n",
       " Chuck Schumer,\n",
       " New York,\n",
       " Manhattan,\n",
       " Chuck,\n",
       " FEMA,\n",
       " La Guardia,\n",
       " Manhattan,\n",
       " Hudson River,\n",
       " Federal,\n",
       " World Trade Center,\n",
       " Dante,\n",
       " Chuck,\n",
       " Schumer,\n",
       " Oval Office,\n",
       " Bush,\n",
       " New York's,\n",
       " Schumer,\n",
       " Senate,\n",
       " Chuck,\n",
       " New York,\n",
       " Inouye,\n",
       " Cochran,\n",
       " Appropriations Committee,\n",
       " Harkin,\n",
       " Murray â€,\n",
       " New York,\n",
       " New York,\n",
       " New York,\n",
       " Kent Conrad,\n",
       " Byron Dorgan,\n",
       " Tom Harkin,\n",
       " Max Baucus,\n",
       " New York,\n",
       " New York,\n",
       " New York,\n",
       " New York,\n",
       " America,\n",
       " North Country,\n",
       " eBay,\n",
       " New York,\n",
       " Corning,\n",
       " Jamestown,\n",
       " Rochester,\n",
       " State,\n",
       " Bioinformatics,\n",
       " Buffalo,\n",
       " Stanley Theater,\n",
       " Utica,\n",
       " New York,\n",
       " Seneca Falls,\n",
       " National Women's Hall of Fame,\n",
       " Women's Rights Convention,\n",
       " Senate,\n",
       " America,\n",
       " New Yorkers,\n",
       " Americans,\n",
       " State,\n",
       " Senate,\n",
       " Democratic,\n",
       " Republican,\n",
       " New York,\n",
       " Empire State,\n",
       " New York,\n",
       " Foggy Bottom,\n",
       " Americans,\n",
       " America,\n",
       " Barbara Adair,\n",
       " Joshua Albert,\n",
       " Amanda Alcott,\n",
       " David Alexander,\n",
       " Lily Alpert,\n",
       " Karl Alvarez,\n",
       " Erin Ashwell,\n",
       " Kris Balderston,\n",
       " Brendan Ballard,\n",
       " Mary Catherine Beach,\n",
       " Kathleen Beale,\n",
       " Eric Bederman,\n",
       " Yael Belkind]"
      ]
     },
     "execution_count": 13,
     "metadata": {},
     "output_type": "execute_result"
    }
   ],
   "source": [
    "list(textacy.extract.named_entities(\n",
    "    doc, drop_determiners=True, exclude_types='numeric'))[:100]"
   ]
  },
  {
   "cell_type": "code",
   "execution_count": 14,
   "metadata": {
    "collapsed": false
   },
   "outputs": [
    {
     "data": {
      "text/plain": [
       "'<DET>? <NUM>* (<ADJ> <PUNCT>? <CONJ>?)* (<NOUN>|<PROPN> <PART>?)+'"
      ]
     },
     "execution_count": 14,
     "metadata": {},
     "output_type": "execute_result"
    }
   ],
   "source": [
    "pattern = textacy.constants.POS_REGEX_PATTERNS['en']['NP']\n",
    "pattern"
   ]
  },
  {
   "cell_type": "code",
   "execution_count": 15,
   "metadata": {
    "collapsed": false
   },
   "outputs": [
    {
     "data": {
      "text/plain": [
       "[the Federalist Papers,\n",
       " the reference,\n",
       " the Senate's role,\n",
       " the consequences,\n",
       " sudden and violent passions,\n",
       " intemperate and pernicious resolutions,\n",
       " the everlasting credit,\n",
       " wisdom,\n",
       " our Founders,\n",
       " an effort]"
      ]
     },
     "execution_count": 15,
     "metadata": {},
     "output_type": "execute_result"
    }
   ],
   "source": [
    "list(textacy.extract.pos_regex_matches(doc, pattern))[:10]"
   ]
  },
  {
   "cell_type": "code",
   "execution_count": 16,
   "metadata": {
    "collapsed": false
   },
   "outputs": [
    {
     "data": {
      "text/plain": [
       "[(I, was, on the other end of Pennsylvania Avenue),\n",
       " (I, was, , a very new Senator, and my city and my State had been devastated),\n",
       " (I, am, grateful to have had Senator Schumer as my partner and my ally),\n",
       " (I, am, very excited about what can happen in the next 4 years),\n",
       " (I, been, a New Yorker, but I know I always will be one)]"
      ]
     },
     "execution_count": 16,
     "metadata": {},
     "output_type": "execute_result"
    }
   ],
   "source": [
    "list(textacy.extract.semistructured_statements(doc, 'I', cue='be'))"
   ]
  },
  {
   "cell_type": "code",
   "execution_count": 20,
   "metadata": {
    "collapsed": false
   },
   "outputs": [
    {
     "data": {
      "text/plain": [
       "[('new', 0.009941897243924757),\n",
       " ('senator', 0.007506064460010034),\n",
       " ('york', 0.0066900884741152135),\n",
       " ('day', 0.005906363319080454),\n",
       " ('senate', 0.005810906203697855)]"
      ]
     },
     "execution_count": 20,
     "metadata": {},
     "output_type": "execute_result"
    }
   ],
   "source": [
    "textacy.keyterms.textrank(doc, n_keyterms=5)"
   ]
  },
  {
   "cell_type": "markdown",
   "metadata": {},
   "source": [
    "Compute common statistical attributes of a text:"
   ]
  },
  {
   "cell_type": "code",
   "execution_count": 17,
   "metadata": {
    "collapsed": false
   },
   "outputs": [
    {
     "data": {
      "text/plain": [
       "{'automated_readability_index': 12.67505954743946,\n",
       " 'coleman_liau_index': 9.877273770543866,\n",
       " 'flesch_kincaid_grade_level': 10.76065815799921,\n",
       " 'flesch_readability_ease': 62.78013134180233,\n",
       " 'gunning_fog_index': 13.601208416038112,\n",
       " 'n_chars': 11504,\n",
       " 'n_polysyllable_words': 222,\n",
       " 'n_sents': 100,\n",
       " 'n_syllables': 3528,\n",
       " 'n_unique_words': 1108,\n",
       " 'n_words': 2519,\n",
       " 'smog_index': 11.640900244366641}"
      ]
     },
     "execution_count": 17,
     "metadata": {},
     "output_type": "execute_result"
    }
   ],
   "source": [
    "textacy.text_stats.readability_stats(doc)"
   ]
  },
  {
   "cell_type": "markdown",
   "metadata": {},
   "source": [
    "Count terms individually, and represent documents as a bag-of-terms with flexible weighting and inclusion criteria:"
   ]
  },
  {
   "cell_type": "code",
   "execution_count": 18,
   "metadata": {
    "collapsed": false
   },
   "outputs": [
    {
     "data": {
      "text/plain": [
       "22"
      ]
     },
     "execution_count": 18,
     "metadata": {},
     "output_type": "execute_result"
    }
   ],
   "source": [
    "doc.count('New')"
   ]
  },
  {
   "cell_type": "code",
   "execution_count": 19,
   "metadata": {
    "collapsed": false
   },
   "outputs": [
    {
     "data": {
      "text/plain": [
       "[('new york', 18),\n",
       " ('senate', 8),\n",
       " ('first', 6),\n",
       " ('state', 4),\n",
       " ('america', 3),\n",
       " ('look forward', 3),\n",
       " ('new yorkers', 3),\n",
       " ('chuck', 3),\n",
       " ('senator schumer', 2),\n",
       " ('world trade center', 2)]"
      ]
     },
     "execution_count": 19,
     "metadata": {},
     "output_type": "execute_result"
    }
   ],
   "source": [
    "bot = doc.to_bag_of_terms(ngrams={2, 3}, as_strings=True)\n",
    "sorted(bot.items(), key=lambda x: x[1], reverse=True)[:10]"
   ]
  },
  {
   "cell_type": "markdown",
   "metadata": {},
   "source": [
    "# Data"
   ]
  },
  {
   "cell_type": "code",
   "execution_count": 21,
   "metadata": {
    "collapsed": true
   },
   "outputs": [],
   "source": [
    "import pandas as pd\n",
    "import os\n",
    "import codecs\n",
    "\n",
    "intermediate_directory = os.path.join('.', 'intermediate') # Directory for storing data"
   ]
  },
  {
   "cell_type": "code",
   "execution_count": 22,
   "metadata": {
    "collapsed": false
   },
   "outputs": [
    {
     "data": {
      "text/html": [
       "<div>\n",
       "<table border=\"1\" class=\"dataframe\">\n",
       "  <thead>\n",
       "    <tr style=\"text-align: right;\">\n",
       "      <th></th>\n",
       "      <th>Date</th>\n",
       "      <th>ArticleCode</th>\n",
       "      <th>Language</th>\n",
       "      <th>Title</th>\n",
       "      <th>Content</th>\n",
       "      <th>Text</th>\n",
       "    </tr>\n",
       "  </thead>\n",
       "  <tbody>\n",
       "    <tr>\n",
       "      <th>0</th>\n",
       "      <td>2015-01-05</td>\n",
       "      <td>1</td>\n",
       "      <td>en</td>\n",
       "      <td>WTO celebrates 20 years of helping global econ...</td>\n",
       "      <td>GENEVA, Jan 1 (KUNA) -- The World Trade Organi...</td>\n",
       "      <td>WTO celebrates 20 years of helping global econ...</td>\n",
       "    </tr>\n",
       "    <tr>\n",
       "      <th>2</th>\n",
       "      <td>2015-01-05</td>\n",
       "      <td>3</td>\n",
       "      <td>en</td>\n",
       "      <td>Delegates of 45 nations,WTO Chief to be at CII...</td>\n",
       "      <td>New Delhi, Jan 2 (PTI) Over 1,000 delegates fr...</td>\n",
       "      <td>Delegates of 45 nations,WTO Chief to be at CII...</td>\n",
       "    </tr>\n",
       "    <tr>\n",
       "      <th>3</th>\n",
       "      <td>2015-01-05</td>\n",
       "      <td>4</td>\n",
       "      <td>en</td>\n",
       "      <td>Compliance Rulings On Aircraft, Tuna, COOL To ...</td>\n",
       "      <td>World Trade Online Posted: December 30, 2014 A...</td>\n",
       "      <td>Compliance Rulings On Aircraft, Tuna, COOL To ...</td>\n",
       "    </tr>\n",
       "    <tr>\n",
       "      <th>4</th>\n",
       "      <td>2015-01-05</td>\n",
       "      <td>5</td>\n",
       "      <td>en</td>\n",
       "      <td>Sudan making new push at WTO membership: official</td>\n",
       "      <td>Sudan Tribune 4 January 2015 January 3, 2015 (...</td>\n",
       "      <td>Sudan making new push at WTO membership: offic...</td>\n",
       "    </tr>\n",
       "    <tr>\n",
       "      <th>5</th>\n",
       "      <td>2015-01-05</td>\n",
       "      <td>6</td>\n",
       "      <td>en</td>\n",
       "      <td>China Ends Rare-Earth Minerals Export Quotas</td>\n",
       "      <td>China Ends Decade-Old Quota System Limiting Ex...</td>\n",
       "      <td>China Ends Rare-Earth Minerals Export Quotas. ...</td>\n",
       "    </tr>\n",
       "  </tbody>\n",
       "</table>\n",
       "</div>"
      ],
      "text/plain": [
       "         Date  ArticleCode Language  \\\n",
       "0  2015-01-05            1       en   \n",
       "2  2015-01-05            3       en   \n",
       "3  2015-01-05            4       en   \n",
       "4  2015-01-05            5       en   \n",
       "5  2015-01-05            6       en   \n",
       "\n",
       "                                               Title  \\\n",
       "0  WTO celebrates 20 years of helping global econ...   \n",
       "2  Delegates of 45 nations,WTO Chief to be at CII...   \n",
       "3  Compliance Rulings On Aircraft, Tuna, COOL To ...   \n",
       "4  Sudan making new push at WTO membership: official   \n",
       "5       China Ends Rare-Earth Minerals Export Quotas   \n",
       "\n",
       "                                             Content  \\\n",
       "0  GENEVA, Jan 1 (KUNA) -- The World Trade Organi...   \n",
       "2  New Delhi, Jan 2 (PTI) Over 1,000 delegates fr...   \n",
       "3  World Trade Online Posted: December 30, 2014 A...   \n",
       "4  Sudan Tribune 4 January 2015 January 3, 2015 (...   \n",
       "5  China Ends Decade-Old Quota System Limiting Ex...   \n",
       "\n",
       "                                                Text  \n",
       "0  WTO celebrates 20 years of helping global econ...  \n",
       "2  Delegates of 45 nations,WTO Chief to be at CII...  \n",
       "3  Compliance Rulings On Aircraft, Tuna, COOL To ...  \n",
       "4  Sudan making new push at WTO membership: offic...  \n",
       "5  China Ends Rare-Earth Minerals Export Quotas. ...  "
      ]
     },
     "execution_count": 22,
     "metadata": {},
     "output_type": "execute_result"
    }
   ],
   "source": [
    "df = pd.read_pickle('df_save.pck')\n",
    "df = df[df['Language'].isin(['en'])]\n",
    "# Combine title and contents\n",
    "df['Text'] = df['Title'] + '. ' + df['Content']\n",
    "df.head()"
   ]
  },
  {
   "cell_type": "code",
   "execution_count": 23,
   "metadata": {
    "collapsed": true
   },
   "outputs": [],
   "source": [
    "# Normalize words\n",
    "replacements = {\n",
    "    'Text': {\n",
    "        r'\\'s': '', \n",
    "        'Indian': 'India', \n",
    "        'nextgeneration': 'next generation', \n",
    "        '//iconnect\\.wto\\.org/': '', \n",
    "        '-': ' ', \n",
    "        'U.S.': 'United States', \n",
    "        ' US ': 'United States', \n",
    "        'S.Korea': 'South Korea', \n",
    "        'S. Korea': 'South Korea', \n",
    "        'WTO': 'world trade organization', \n",
    "        '‘': '', \n",
    "        'imports': 'import', \n",
    "        'Imports': 'import', \n",
    "        'exports': 'export', \n",
    "        'Exports': 'export', \n",
    "        'NZ ': 'New Zealand ', \n",
    "        '\\\"': '',\n",
    "        '\\'': '', \n",
    "    }\n",
    "}\n",
    "df.replace(replacements, regex=True, inplace=True)"
   ]
  },
  {
   "cell_type": "code",
   "execution_count": 24,
   "metadata": {
    "collapsed": false
   },
   "outputs": [
    {
     "name": "stdout",
     "output_type": "stream",
     "text": [
      "6409 texts\n",
      "6409 titles\n",
      "6409 dates\n",
      "6409 articlecodes\n"
     ]
    }
   ],
   "source": [
    "texts = df['Text'].tolist()\n",
    "titles = df['Title'].tolist()\n",
    "dates = df['Date'].tolist()\n",
    "articlecodes = df['ArticleCode'].tolist()\n",
    "print(str(len(texts)) + ' texts')\n",
    "print(str(len(titles)) + ' titles')\n",
    "print(str(len(dates)) + ' dates')\n",
    "print(str(len(articlecodes)) + ' articlecodes')"
   ]
  },
  {
   "cell_type": "markdown",
   "metadata": {
    "collapsed": true
   },
   "source": [
    "# Processing"
   ]
  },
  {
   "cell_type": "code",
   "execution_count": 25,
   "metadata": {
    "collapsed": false
   },
   "outputs": [
    {
     "data": {
      "text/plain": [
       "Corpus(6409 docs; 4253476 tokens)"
      ]
     },
     "execution_count": 25,
     "metadata": {},
     "output_type": "execute_result"
    }
   ],
   "source": [
    "corpus = textacy.Corpus('en', texts=texts)\n",
    "corpus"
   ]
  },
  {
   "cell_type": "markdown",
   "metadata": {},
   "source": [
    "Represent corpus as a document-term matrix, with flexible weighting and filtering:"
   ]
  },
  {
   "cell_type": "code",
   "execution_count": 26,
   "metadata": {
    "collapsed": false
   },
   "outputs": [
    {
     "name": "stdout",
     "output_type": "stream",
     "text": [
      "<6409x35516 sparse matrix of type '<class 'numpy.float64'>'\n",
      "\twith 1378866 stored elements in Compressed Sparse Row format>\n"
     ]
    }
   ],
   "source": [
    "doc_term_matrix, id2term = textacy.vsm.doc_term_matrix(\n",
    "     (doc.to_terms_list(ngrams=1, named_entities=True, as_strings=True)\n",
    "      for doc in corpus),\n",
    "     weighting='tfidf', normalize=True, smooth_idf=True, min_df=2, max_df=0.95) \n",
    "print(repr(doc_term_matrix))"
   ]
  },
  {
   "cell_type": "markdown",
   "metadata": {},
   "source": [
    "Train and interpret a topic model:"
   ]
  },
  {
   "cell_type": "code",
   "execution_count": 27,
   "metadata": {
    "collapsed": false
   },
   "outputs": [
    {
     "data": {
      "text/plain": [
       "(6409, 10)"
      ]
     },
     "execution_count": 27,
     "metadata": {},
     "output_type": "execute_result"
    }
   ],
   "source": [
    "model = textacy.tm.TopicModel('nmf', n_topics=10)\n",
    "model.fit(doc_term_matrix)\n",
    "doc_topic_matrix = model.transform(doc_term_matrix)\n",
    "doc_topic_matrix.shape"
   ]
  },
  {
   "cell_type": "code",
   "execution_count": 28,
   "metadata": {
    "collapsed": false
   },
   "outputs": [
    {
     "name": "stdout",
     "output_type": "stream",
     "text": [
      "topic 0 : china   chinese   beijing   steel   market   economy   status   dumping   eu   chinas\n",
      "topic 1 : india   solar   indias   theunited   modi   delhi   sitharaman   visa   country   new delhi\n",
      "topic 2 : eu   uk   britain   brexit   european   british   europe   trade   ttip   deal\n",
      "topic 3 : tpp   japan   obama   pacific   trade   deal   congress   vietnam   asia   japanese\n",
      "topic 4 : trade   organization   world   nairobi   doha   member   tfa   azevedo   country   agreement\n",
      "topic 5 : growth   global   year   economy   bank   imf   cent   oecd   g20   economic\n",
      "topic 6 : russia   ukraine   russian   ukrainian   moscow   kazakhstan   interfax   brics   sanction   organization\n",
      "topic 7 : states   united states   united   canada   mexico   trade   cool   canadian   say   organization\n",
      "topic 8 : trump   clinton   american   trade   nafta   republican   america   mexico   obama   trumps\n",
      "topic 9 : brazil   mercosur   argentina   venezuela   brazilian   macri   uruguay   paraguay   bloc   rousseff\n"
     ]
    }
   ],
   "source": [
    "for topic_idx, top_terms in model.top_topic_terms(id2term, top_n=10):\n",
    "    print('topic', topic_idx, ':', '   '.join(top_terms))"
   ]
  },
  {
   "cell_type": "markdown",
   "metadata": {},
   "source": [
    "Basic indexing as well as flexible selection of documents in a corpus:"
   ]
  },
  {
   "cell_type": "code",
   "execution_count": 6,
   "metadata": {
    "collapsed": false
   },
   "outputs": [
    {
     "data": {
      "text/plain": [
       "411"
      ]
     },
     "execution_count": 6,
     "metadata": {},
     "output_type": "execute_result"
    }
   ],
   "source": [
    "obama_docs = list(corpus.get(\n",
    "    lambda doc: doc.metadata['speaker_name'] == 'Barack Obama'))\n",
    "len(obama_docs)"
   ]
  },
  {
   "cell_type": "code",
   "execution_count": 29,
   "metadata": {
    "collapsed": false
   },
   "outputs": [
    {
     "data": {
      "text/plain": [
       "Doc(667 tokens; \"UK mobile users face return of steep roaming bi...\")"
      ]
     },
     "execution_count": 29,
     "metadata": {},
     "output_type": "execute_result"
    }
   ],
   "source": [
    "doc = corpus[-1]\n",
    "doc"
   ]
  },
  {
   "cell_type": "markdown",
   "metadata": {},
   "source": [
    "Preprocess plain text, or highlight particular terms in it:"
   ]
  },
  {
   "cell_type": "code",
   "execution_count": 30,
   "metadata": {
    "collapsed": false
   },
   "outputs": [
    {
     "data": {
      "text/plain": [
       "'uk mobile users face return of steep roaming bills after brexit decemb'"
      ]
     },
     "execution_count": 30,
     "metadata": {},
     "output_type": "execute_result"
    }
   ],
   "source": [
    "textacy.preprocess_text(doc.text, lowercase=True, no_punct=True)[:70]"
   ]
  },
  {
   "cell_type": "code",
   "execution_count": 31,
   "metadata": {
    "collapsed": false
   },
   "outputs": [],
   "source": [
    "textacy.text_utils.keyword_in_context(doc.text, 'America', window_width=35)"
   ]
  },
  {
   "cell_type": "markdown",
   "metadata": {},
   "source": [
    "Extract various elements of interest from parsed documents:"
   ]
  },
  {
   "cell_type": "code",
   "execution_count": 32,
   "metadata": {
    "collapsed": false
   },
   "outputs": [
    {
     "data": {
      "text/plain": [
       "[UK mobile,\n",
       " mobile users,\n",
       " users face,\n",
       " face return,\n",
       " steep roaming,\n",
       " roaming bills,\n",
       " DECEMBER 29,\n",
       " 2016 Duncan,\n",
       " Duncan Robinson,\n",
       " Nic Fildes,\n",
       " London Financial,\n",
       " Financial Times,\n",
       " Times British,\n",
       " British mobile,\n",
       " mobile phone,\n",
       " phone users,\n",
       " users face,\n",
       " face bills,\n",
       " worst case,\n",
       " case scenario,\n",
       " comprehensive free,\n",
       " free trade,\n",
       " trade deal,\n",
       " roaming fees,\n",
       " past decade]"
      ]
     },
     "execution_count": 32,
     "metadata": {},
     "output_type": "execute_result"
    }
   ],
   "source": [
    "list(textacy.extract.ngrams(\n",
    "    doc, 2, filter_stops=True, filter_punct=True, filter_nums=False))[:25]"
   ]
  },
  {
   "cell_type": "code",
   "execution_count": 33,
   "metadata": {
    "collapsed": false
   },
   "outputs": [
    {
     "data": {
      "text/plain": [
       "[UK mobile users,\n",
       " mobile users face,\n",
       " users face return,\n",
       " return of steep,\n",
       " steep roaming bills,\n",
       " bills after Brexit,\n",
       " 2016 Duncan Robinson,\n",
       " Robinson in Brussels,\n",
       " Brussels and Nic,\n",
       " Fildes in London,\n",
       " London Financial Times,\n",
       " Financial Times British,\n",
       " Times British mobile,\n",
       " British mobile phone,\n",
       " mobile phone users,\n",
       " phone users face,\n",
       " users face bills,\n",
       " song they stream,\n",
       " stream while roaming,\n",
       " worst case scenario,\n",
       " UK can agree,\n",
       " agree a comprehensive,\n",
       " comprehensive free trade,\n",
       " free trade deal,\n",
       " deal after Brexit,\n",
       " EU has campaigned,\n",
       " campaigned against roaming,\n",
       " reducing what operators,\n",
       " operators can charge,\n",
       " abolition for nearly,\n",
       " nearly all users,\n",
       " reforms were repeatedly,\n",
       " prime minister David,\n",
       " minister David Cameron,\n",
       " quits the bloc,\n",
       " allowing continental carriers,\n",
       " carriers to charge,\n",
       " charge British consumers,\n",
       " like and potentially,\n",
       " potentially leaving consumers,\n",
       " bills of 10,\n",
       " 10 per MB,\n",
       " commonly paid byUnited,\n",
       " paid byUnited Statesvisitors,\n",
       " arrange special data,\n",
       " special data packages,\n",
       " said one EU,\n",
       " EU official working,\n",
       " working on roaming,\n",
       " shock the surprisingly,\n",
       " surprisingly large charge,\n",
       " use their phones,\n",
       " talking and texting,\n",
       " song on Spotify,\n",
       " takes between 3,\n",
       " MB and 5,\n",
       " leave non EU,\n",
       " non EU customers,\n",
       " UK networks fear,\n",
       " fear that rival,\n",
       " rival telecoms companies,\n",
       " EU could raise,\n",
       " raise wholesale prices,\n",
       " prices for calls,\n",
       " calls and data,\n",
       " telecoms executive told,\n",
       " told the Financial,\n",
       " worse case scenario,\n",
       " entirely by roaming,\n",
       " higher line rental,\n",
       " likes of France,\n",
       " France and Spain,\n",
       " Spain raising prices,\n",
       " quick bilateral deal,\n",
       " EU to cover,\n",
       " topic last year,\n",
       " German commissioner responsible,\n",
       " blocs telecoms policy,\n",
       " world trade organization,\n",
       " trade organization rules,\n",
       " bilateral agreement outside,\n",
       " comprehensive free trade,\n",
       " free trade deal,\n",
       " world trade organization,\n",
       " trade organization members,\n",
       " warned Mr Oettinger,\n",
       " Parliament last year,\n",
       " Negotiating roaming rights,\n",
       " free trade deal,\n",
       " warned industry experts,\n",
       " experts and officials,\n",
       " Countries that receive,\n",
       " receive huge numbers,\n",
       " numbers of British,\n",
       " unwilling to offer,\n",
       " offer generous terms,\n",
       " largely because tourist,\n",
       " traffic and subsequent,\n",
       " congestion on networks,\n",
       " networks is tilted,\n",
       " 13m British,\n",
       " m British people,\n",
       " British people visited,\n",
       " people visited Spain,\n",
       " Spain last year,\n",
       " far fewer Spanish,\n",
       " fewer Spanish travelled,\n",
       " took a decade,\n",
       " decade of negotiations,\n",
       " negotiations to persuade,\n",
       " Italy and Spain,\n",
       " Spain to sign,\n",
       " EUs current limits,\n",
       " limits on roaming,\n",
       " companies across Europe,\n",
       " companies that operate,\n",
       " able to exchange,\n",
       " infrastructure with continental,\n",
       " potentially make negotiations,\n",
       " according to officials,\n",
       " Smaller virtual operators,\n",
       " infrastructure and piggyback,\n",
       " networks of larger,\n",
       " TalkTalk and Sky,\n",
       " offered generous terms,\n",
       " leaving their customers,\n",
       " customers facing potentially,\n",
       " facing potentially huge,\n",
       " potentially huge price,\n",
       " huge price hikes,\n",
       " warned one official,\n",
       " Talks between operators,\n",
       " straightforward in recent,\n",
       " EU has capped,\n",
       " leaving little incentive,\n",
       " incentive to drive,\n",
       " drive a hard]"
      ]
     },
     "execution_count": 33,
     "metadata": {},
     "output_type": "execute_result"
    }
   ],
   "source": [
    "list(textacy.extract.ngrams(\n",
    "    doc, 3, filter_stops=True, filter_punct=True,))"
   ]
  },
  {
   "cell_type": "code",
   "execution_count": 34,
   "metadata": {
    "collapsed": false
   },
   "outputs": [
    {
     "data": {
      "text/plain": [
       "[UK,\n",
       " Brexit,\n",
       " Duncan Robinson,\n",
       " Brussels,\n",
       " Nic Fildes,\n",
       " London Financial Times,\n",
       " British,\n",
       " EU,\n",
       " UK,\n",
       " Brexit,\n",
       " EU,\n",
       " David Cameron,\n",
       " Brexit,\n",
       " Britain,\n",
       " British,\n",
       " MB,\n",
       " EU,\n",
       " Spotify,\n",
       " EU,\n",
       " EU,\n",
       " Financial Times,\n",
       " France,\n",
       " Spain,\n",
       " UK,\n",
       " EU,\n",
       " European Commission,\n",
       " Gnther Oettinger,\n",
       " German,\n",
       " Mr Oettinger,\n",
       " European Parliament,\n",
       " British,\n",
       " UK,\n",
       " British,\n",
       " Spain,\n",
       " Spanish,\n",
       " Italy,\n",
       " Spain,\n",
       " Europe,\n",
       " UK,\n",
       " Three,\n",
       " TalkTalk,\n",
       " Sky,\n",
       " EU]"
      ]
     },
     "execution_count": 34,
     "metadata": {},
     "output_type": "execute_result"
    }
   ],
   "source": [
    "list(textacy.extract.named_entities(\n",
    "    doc, drop_determiners=True, exclude_types='numeric'))[:100]"
   ]
  },
  {
   "cell_type": "code",
   "execution_count": 35,
   "metadata": {
    "collapsed": false
   },
   "outputs": [
    {
     "data": {
      "text/plain": [
       "'<DET>? <NUM>* (<ADJ> <PUNCT>? <CONJ>?)* (<NOUN>|<PROPN> <PART>?)+'"
      ]
     },
     "execution_count": 35,
     "metadata": {},
     "output_type": "execute_result"
    }
   ],
   "source": [
    "pattern = textacy.constants.POS_REGEX_PATTERNS['en']['NP']\n",
    "pattern"
   ]
  },
  {
   "cell_type": "code",
   "execution_count": 36,
   "metadata": {
    "collapsed": false
   },
   "outputs": [
    {
     "data": {
      "text/plain": [
       "[UK,\n",
       " mobile users,\n",
       " return,\n",
       " steep roaming bills,\n",
       " Brexit,\n",
       " DECEMBER,\n",
       " 2016 Duncan Robinson,\n",
       " Brussels,\n",
       " Nic Fildes,\n",
       " London Financial Times]"
      ]
     },
     "execution_count": 36,
     "metadata": {},
     "output_type": "execute_result"
    }
   ],
   "source": [
    "list(textacy.extract.pos_regex_matches(doc, pattern))[:10]"
   ]
  },
  {
   "cell_type": "code",
   "execution_count": 37,
   "metadata": {
    "collapsed": false
   },
   "outputs": [
    {
     "data": {
      "text/plain": [
       "[]"
      ]
     },
     "execution_count": 37,
     "metadata": {},
     "output_type": "execute_result"
    }
   ],
   "source": [
    "list(textacy.extract.semistructured_statements(doc, 'I', cue='be'))"
   ]
  },
  {
   "cell_type": "code",
   "execution_count": 39,
   "metadata": {
    "collapsed": false
   },
   "outputs": [
    {
     "data": {
      "text/plain": [
       "[('eu', 0.023616474047813325),\n",
       " ('uk', 0.018059274440052973),\n",
       " ('official', 0.01786864654486733),\n",
       " ('network', 0.017025303231299565),\n",
       " ('year', 0.016368067390966894),\n",
       " ('british', 0.015185226975152614),\n",
       " ('operator', 0.014821543750413845),\n",
       " ('deal', 0.013082494046337226),\n",
       " ('company', 0.012657655964019306),\n",
       " ('brexit', 0.012260144419567541)]"
      ]
     },
     "execution_count": 39,
     "metadata": {},
     "output_type": "execute_result"
    }
   ],
   "source": [
    "textacy.keyterms.textrank(doc, n_keyterms=10)"
   ]
  },
  {
   "cell_type": "markdown",
   "metadata": {},
   "source": [
    "Compute common statistical attributes of a text:"
   ]
  },
  {
   "cell_type": "code",
   "execution_count": 40,
   "metadata": {
    "collapsed": false
   },
   "outputs": [
    {
     "data": {
      "text/plain": [
       "{'automated_readability_index': 15.315467054401019,\n",
       " 'coleman_liau_index': 12.325261918433934,\n",
       " 'flesch_kincaid_grade_level': 12.62947017518973,\n",
       " 'flesch_readability_ease': 51.985979856727454,\n",
       " 'gunning_fog_index': 15.881097950209233,\n",
       " 'n_chars': 3048,\n",
       " 'n_polysyllable_words': 80,\n",
       " 'n_sents': 23,\n",
       " 'n_syllables': 926,\n",
       " 'n_unique_words': 305,\n",
       " 'n_words': 613,\n",
       " 'smog_index': 13.783426738976498}"
      ]
     },
     "execution_count": 40,
     "metadata": {},
     "output_type": "execute_result"
    }
   ],
   "source": [
    "textacy.text_stats.readability_stats(doc)"
   ]
  },
  {
   "cell_type": "markdown",
   "metadata": {},
   "source": [
    "Count terms individually, and represent documents as a bag-of-terms with flexible weighting and inclusion criteria:"
   ]
  },
  {
   "cell_type": "code",
   "execution_count": 41,
   "metadata": {
    "collapsed": false
   },
   "outputs": [
    {
     "data": {
      "text/plain": [
       "22"
      ]
     },
     "execution_count": 41,
     "metadata": {},
     "output_type": "execute_result"
    }
   ],
   "source": [
    "doc.count('New')"
   ]
  },
  {
   "cell_type": "code",
   "execution_count": 42,
   "metadata": {
    "collapsed": false
   },
   "outputs": [
    {
     "data": {
      "text/plain": [
       "[('eu', 7),\n",
       " ('uk', 5),\n",
       " ('british', 4),\n",
       " ('free trade deal', 3),\n",
       " ('last year', 3),\n",
       " ('free trade', 3),\n",
       " ('spain', 3),\n",
       " ('trade deal', 3),\n",
       " ('brexit', 3),\n",
       " ('bilateral deal', 2)]"
      ]
     },
     "execution_count": 42,
     "metadata": {},
     "output_type": "execute_result"
    }
   ],
   "source": [
    "bot = doc.to_bag_of_terms(ngrams={2, 3}, as_strings=True)\n",
    "sorted(bot.items(), key=lambda x: x[1], reverse=True)[:10]"
   ]
  },
  {
   "cell_type": "code",
   "execution_count": null,
   "metadata": {
    "collapsed": true
   },
   "outputs": [],
   "source": []
  }
 ],
 "metadata": {
  "kernelspec": {
   "display_name": "Python [default]",
   "language": "python",
   "name": "python3"
  },
  "language_info": {
   "codemirror_mode": {
    "name": "ipython",
    "version": 3
   },
   "file_extension": ".py",
   "mimetype": "text/x-python",
   "name": "python",
   "nbconvert_exporter": "python",
   "pygments_lexer": "ipython3",
   "version": "3.5.2"
  }
 },
 "nbformat": 4,
 "nbformat_minor": 2
}
